{
 "cells": [
  {
   "cell_type": "code",
   "execution_count": 1,
   "id": "387795e4",
   "metadata": {
    "_cell_guid": "b1076dfc-b9ad-4769-8c92-a6c4dae69d19",
    "_uuid": "8f2839f25d086af736a60e9eeb907d3b93b6e0e5",
    "execution": {
     "iopub.execute_input": "2024-10-03T15:37:21.836311Z",
     "iopub.status.busy": "2024-10-03T15:37:21.835704Z",
     "iopub.status.idle": "2024-10-03T15:37:32.233717Z",
     "shell.execute_reply": "2024-10-03T15:37:32.232110Z"
    },
    "papermill": {
     "duration": 10.406117,
     "end_time": "2024-10-03T15:37:32.236782",
     "exception": false,
     "start_time": "2024-10-03T15:37:21.830665",
     "status": "completed"
    },
    "tags": []
   },
   "outputs": [
    {
     "name": "stdout",
     "output_type": "stream",
     "text": [
      "Dataset URL: https://www.kaggle.com/datasets/mexwell/telecom-shanghai-dataset\r\n",
      "License(s): other\r\n",
      "Downloading telecom-shanghai-dataset.zip to /kaggle/working\r\n",
      "100%|████████████████████████████████████████| 219M/219M [00:07<00:00, 40.2MB/s]\r\n",
      "100%|████████████████████████████████████████| 219M/219M [00:07<00:00, 31.4MB/s]\r\n"
     ]
    }
   ],
   "source": [
    "!kaggle datasets download -d mexwell/telecom-shanghai-dataset"
   ]
  },
  {
   "cell_type": "code",
   "execution_count": 2,
   "id": "5f9e568a",
   "metadata": {
    "execution": {
     "iopub.execute_input": "2024-10-03T15:37:32.254387Z",
     "iopub.status.busy": "2024-10-03T15:37:32.253900Z",
     "iopub.status.idle": "2024-10-03T15:37:36.147361Z",
     "shell.execute_reply": "2024-10-03T15:37:36.146058Z"
    },
    "papermill": {
     "duration": 3.905549,
     "end_time": "2024-10-03T15:37:36.150321",
     "exception": false,
     "start_time": "2024-10-03T15:37:32.244772",
     "status": "completed"
    },
    "tags": []
   },
   "outputs": [
    {
     "name": "stdout",
     "output_type": "stream",
     "text": [
      "Archive:  /kaggle/working/telecom-shanghai-dataset.zip\r\n",
      "  inflating: data_10.110.15.xlsx     \r\n",
      "  inflating: data_10.1610.31.xlsx    \r\n",
      "  inflating: data_11.111.15.xlsx     \r\n",
      "  inflating: data_11.1611.30.xlsx    \r\n",
      "  inflating: data_6.16.15.xlsx       \r\n",
      "  inflating: data_6.166.30.xlsx      \r\n",
      "  inflating: data_7.167.31.xlsx      \r\n",
      "  inflating: data_7.17.15.xlsx       \r\n",
      "  inflating: data_8.168.31.xlsx      \r\n",
      "  inflating: data_8.18.15.xlsx       \r\n",
      "  inflating: data_9.169.30.xlsx      \r\n",
      "  inflating: data_9.19.15.xlsx       \r\n"
     ]
    }
   ],
   "source": [
    "!unzip /kaggle/working/telecom-shanghai-dataset.zip"
   ]
  },
  {
   "cell_type": "code",
   "execution_count": null,
   "id": "2c082bab",
   "metadata": {
    "papermill": {
     "duration": 0.008358,
     "end_time": "2024-10-03T15:37:36.167511",
     "exception": false,
     "start_time": "2024-10-03T15:37:36.159153",
     "status": "completed"
    },
    "tags": []
   },
   "outputs": [],
   "source": []
  },
  {
   "cell_type": "code",
   "execution_count": null,
   "id": "e10d631d",
   "metadata": {
    "papermill": {
     "duration": 0.008457,
     "end_time": "2024-10-03T15:37:36.185113",
     "exception": false,
     "start_time": "2024-10-03T15:37:36.176656",
     "status": "completed"
    },
    "tags": []
   },
   "outputs": [],
   "source": []
  }
 ],
 "metadata": {
  "kaggle": {
   "accelerator": "none",
   "dataSources": [],
   "dockerImageVersionId": 30775,
   "isGpuEnabled": false,
   "isInternetEnabled": true,
   "language": "python",
   "sourceType": "notebook"
  },
  "kernelspec": {
   "display_name": "Python 3",
   "language": "python",
   "name": "python3"
  },
  "language_info": {
   "codemirror_mode": {
    "name": "ipython",
    "version": 3
   },
   "file_extension": ".py",
   "mimetype": "text/x-python",
   "name": "python",
   "nbconvert_exporter": "python",
   "pygments_lexer": "ipython3",
   "version": "3.10.14"
  },
  "papermill": {
   "default_parameters": {},
   "duration": 17.976944,
   "end_time": "2024-10-03T15:37:36.616039",
   "environment_variables": {},
   "exception": null,
   "input_path": "__notebook__.ipynb",
   "output_path": "__notebook__.ipynb",
   "parameters": {},
   "start_time": "2024-10-03T15:37:18.639095",
   "version": "2.6.0"
  }
 },
 "nbformat": 4,
 "nbformat_minor": 5
}
