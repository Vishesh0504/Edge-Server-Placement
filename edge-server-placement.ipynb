{
 "cells": [
  {
   "cell_type": "code",
   "execution_count": 1,
   "id": "cc95dc05",
   "metadata": {
    "execution": {
     "iopub.execute_input": "2024-10-03T20:18:21.977065Z",
     "iopub.status.busy": "2024-10-03T20:18:21.976142Z",
     "iopub.status.idle": "2024-10-03T20:18:36.257330Z",
     "shell.execute_reply": "2024-10-03T20:18:36.256113Z"
    },
    "papermill": {
     "duration": 14.288892,
     "end_time": "2024-10-03T20:18:36.259994",
     "exception": false,
     "start_time": "2024-10-03T20:18:21.971102",
     "status": "completed"
    },
    "tags": []
   },
   "outputs": [
    {
     "name": "stdout",
     "output_type": "stream",
     "text": [
      "Collecting gurobipy\r\n",
      "  Downloading gurobipy-11.0.3-cp310-cp310-manylinux2014_x86_64.manylinux_2_17_x86_64.whl.metadata (15 kB)\r\n",
      "Requirement already satisfied: scikit-learn in /opt/conda/lib/python3.10/site-packages (1.2.2)\r\n",
      "Requirement already satisfied: numpy>=1.17.3 in /opt/conda/lib/python3.10/site-packages (from scikit-learn) (1.26.4)\r\n",
      "Requirement already satisfied: scipy>=1.3.2 in /opt/conda/lib/python3.10/site-packages (from scikit-learn) (1.14.1)\r\n",
      "Requirement already satisfied: joblib>=1.1.1 in /opt/conda/lib/python3.10/site-packages (from scikit-learn) (1.4.2)\r\n",
      "Requirement already satisfied: threadpoolctl>=2.0.0 in /opt/conda/lib/python3.10/site-packages (from scikit-learn) (3.5.0)\r\n",
      "Downloading gurobipy-11.0.3-cp310-cp310-manylinux2014_x86_64.manylinux_2_17_x86_64.whl (13.4 MB)\r\n",
      "\u001b[2K   \u001b[90m━━━━━━━━━━━━━━━━━━━━━━━━━━━━━━━━━━━━━━━━\u001b[0m \u001b[32m13.4/13.4 MB\u001b[0m \u001b[31m76.8 MB/s\u001b[0m eta \u001b[36m0:00:00\u001b[0m\r\n",
      "\u001b[?25hInstalling collected packages: gurobipy\r\n",
      "Successfully installed gurobipy-11.0.3\r\n"
     ]
    }
   ],
   "source": [
    "!pip install gurobipy scikit-learn"
   ]
  },
  {
   "cell_type": "code",
   "execution_count": 2,
   "id": "d324e594",
   "metadata": {
    "execution": {
     "iopub.execute_input": "2024-10-03T20:18:36.270326Z",
     "iopub.status.busy": "2024-10-03T20:18:36.269920Z",
     "iopub.status.idle": "2024-10-03T20:18:38.367790Z",
     "shell.execute_reply": "2024-10-03T20:18:38.366938Z"
    },
    "papermill": {
     "duration": 2.105896,
     "end_time": "2024-10-03T20:18:38.370438",
     "exception": false,
     "start_time": "2024-10-03T20:18:36.264542",
     "status": "completed"
    },
    "tags": []
   },
   "outputs": [],
   "source": [
    "import numpy as np\n",
    "import os\n",
    "import pandas as pd\n",
    "import matplotlib.pyplot as plt\n",
    "from sklearn.cluster import KMeans\n",
    "from gurobipy import Model, GRB\n",
    "import time\n",
    "import random"
   ]
  },
  {
   "cell_type": "code",
   "execution_count": 3,
   "id": "384f7d89",
   "metadata": {
    "_cell_guid": "b1076dfc-b9ad-4769-8c92-a6c4dae69d19",
    "_uuid": "8f2839f25d086af736a60e9eeb907d3b93b6e0e5",
    "execution": {
     "iopub.execute_input": "2024-10-03T20:18:38.380040Z",
     "iopub.status.busy": "2024-10-03T20:18:38.379628Z",
     "iopub.status.idle": "2024-10-03T20:18:42.468337Z",
     "shell.execute_reply": "2024-10-03T20:18:42.467130Z"
    },
    "papermill": {
     "duration": 4.096541,
     "end_time": "2024-10-03T20:18:42.471134",
     "exception": false,
     "start_time": "2024-10-03T20:18:38.374593",
     "status": "completed"
    },
    "tags": []
   },
   "outputs": [
    {
     "name": "stdout",
     "output_type": "stream",
     "text": [
      "Dataset URL: https://www.kaggle.com/datasets/mexwell/telecom-shanghai-dataset\r\n",
      "License(s): other\r\n",
      "Downloading telecom-shanghai-dataset.zip to /kaggle/working\r\n",
      " 92%|█████████████████████████████████████▊   | 202M/219M [00:02<00:00, 141MB/s]\r\n",
      "100%|█████████████████████████████████████████| 219M/219M [00:02<00:00, 102MB/s]\r\n"
     ]
    }
   ],
   "source": [
    "!kaggle datasets download -d mexwell/telecom-shanghai-dataset"
   ]
  },
  {
   "cell_type": "code",
   "execution_count": 4,
   "id": "ae72e574",
   "metadata": {
    "execution": {
     "iopub.execute_input": "2024-10-03T20:18:42.485982Z",
     "iopub.status.busy": "2024-10-03T20:18:42.485554Z",
     "iopub.status.idle": "2024-10-03T20:18:45.928640Z",
     "shell.execute_reply": "2024-10-03T20:18:45.927491Z"
    },
    "papermill": {
     "duration": 3.4522,
     "end_time": "2024-10-03T20:18:45.931041",
     "exception": false,
     "start_time": "2024-10-03T20:18:42.478841",
     "status": "completed"
    },
    "tags": []
   },
   "outputs": [
    {
     "name": "stdout",
     "output_type": "stream",
     "text": [
      "Archive:  /kaggle/working/telecom-shanghai-dataset.zip\r\n",
      "  inflating: data_10.110.15.xlsx     \r\n",
      "  inflating: data_10.1610.31.xlsx    \r\n",
      "  inflating: data_11.111.15.xlsx     \r\n",
      "  inflating: data_11.1611.30.xlsx    \r\n",
      "  inflating: data_6.16.15.xlsx       \r\n",
      "  inflating: data_6.166.30.xlsx      \r\n",
      "  inflating: data_7.167.31.xlsx      \r\n",
      "  inflating: data_7.17.15.xlsx       \r\n",
      "  inflating: data_8.168.31.xlsx      \r\n",
      "  inflating: data_8.18.15.xlsx       \r\n",
      "  inflating: data_9.169.30.xlsx      \r\n",
      "  inflating: data_9.19.15.xlsx       \r\n"
     ]
    }
   ],
   "source": [
    "!unzip /kaggle/working/telecom-shanghai-dataset.zip"
   ]
  },
  {
   "cell_type": "code",
   "execution_count": 5,
   "id": "b9749812",
   "metadata": {
    "execution": {
     "iopub.execute_input": "2024-10-03T20:18:45.945213Z",
     "iopub.status.busy": "2024-10-03T20:18:45.944842Z",
     "iopub.status.idle": "2024-10-03T20:37:21.793116Z",
     "shell.execute_reply": "2024-10-03T20:37:21.792139Z"
    },
    "papermill": {
     "duration": 1115.864405,
     "end_time": "2024-10-03T20:37:21.801738",
     "exception": false,
     "start_time": "2024-10-03T20:18:45.937333",
     "status": "completed"
    },
    "tags": []
   },
   "outputs": [
    {
     "name": "stdout",
     "output_type": "stream",
     "text": [
      "<class 'pandas.core.frame.DataFrame'>\n",
      "RangeIndex: 6952921 entries, 0 to 6952920\n",
      "Data columns (total 7 columns):\n",
      " #   Column      Dtype         \n",
      "---  ------      -----         \n",
      " 0   month       int64         \n",
      " 1   date        int64         \n",
      " 2   start time  datetime64[ns]\n",
      " 3   end time    datetime64[ns]\n",
      " 4   latitude    float64       \n",
      " 5   longitude   float64       \n",
      " 6   user id     object        \n",
      "dtypes: datetime64[ns](2), float64(2), int64(2), object(1)\n",
      "memory usage: 371.3+ MB\n"
     ]
    }
   ],
   "source": [
    "dir_path = \"/kaggle/working/\"\n",
    "df = pd.DataFrame()\n",
    "for file_name in os.listdir(dir_path):\n",
    "    if file_name.endswith('.xlsx'):\n",
    "        file_path = os.path.join(dir_path,file_name)\n",
    "        \n",
    "        temp_df = pd.read_excel(file_path,engine='openpyxl')\n",
    "        df = pd.concat([df,temp_df],ignore_index = True)\n",
    "df.info()"
   ]
  },
  {
   "cell_type": "code",
   "execution_count": 6,
   "id": "48c44996",
   "metadata": {
    "execution": {
     "iopub.execute_input": "2024-10-03T20:37:21.816687Z",
     "iopub.status.busy": "2024-10-03T20:37:21.815899Z",
     "iopub.status.idle": "2024-10-03T20:37:22.543937Z",
     "shell.execute_reply": "2024-10-03T20:37:22.542763Z"
    },
    "papermill": {
     "duration": 0.738191,
     "end_time": "2024-10-03T20:37:22.546386",
     "exception": false,
     "start_time": "2024-10-03T20:37:21.808195",
     "status": "completed"
    },
    "tags": []
   },
   "outputs": [
    {
     "name": "stdout",
     "output_type": "stream",
     "text": [
      "<class 'pandas.core.frame.DataFrame'>\n",
      "RangeIndex: 6952921 entries, 0 to 6952920\n",
      "Data columns (total 7 columns):\n",
      " #   Column      Non-Null Count    Dtype         \n",
      "---  ------      --------------    -----         \n",
      " 0   month       6952921 non-null  int64         \n",
      " 1   date        6952921 non-null  int64         \n",
      " 2   start time  6952921 non-null  datetime64[ns]\n",
      " 3   end time    6952921 non-null  datetime64[ns]\n",
      " 4   latitude    6236620 non-null  float64       \n",
      " 5   longitude   6236620 non-null  float64       \n",
      " 6   user id     6952921 non-null  object        \n",
      "dtypes: datetime64[ns](2), float64(2), int64(2), object(1)\n",
      "memory usage: 371.3+ MB\n"
     ]
    }
   ],
   "source": [
    "df.info(show_counts=True)"
   ]
  },
  {
   "cell_type": "code",
   "execution_count": 7,
   "id": "449b0d30",
   "metadata": {
    "execution": {
     "iopub.execute_input": "2024-10-03T20:37:22.562069Z",
     "iopub.status.busy": "2024-10-03T20:37:22.561750Z",
     "iopub.status.idle": "2024-10-03T20:37:24.532471Z",
     "shell.execute_reply": "2024-10-03T20:37:24.531511Z"
    },
    "papermill": {
     "duration": 1.981343,
     "end_time": "2024-10-03T20:37:24.534595",
     "exception": false,
     "start_time": "2024-10-03T20:37:22.553252",
     "status": "completed"
    },
    "tags": []
   },
   "outputs": [
    {
     "name": "stderr",
     "output_type": "stream",
     "text": [
      "/tmp/ipykernel_24/4133840982.py:2: SettingWithCopyWarning: \n",
      "A value is trying to be set on a copy of a slice from a DataFrame.\n",
      "Try using .loc[row_indexer,col_indexer] = value instead\n",
      "\n",
      "See the caveats in the documentation: https://pandas.pydata.org/pandas-docs/stable/user_guide/indexing.html#returning-a-view-versus-a-copy\n",
      "  df_clean['latitude_norm'] = (df['latitude'] - df['latitude'].min()) / (df['latitude'].max() - df['latitude'].min())\n",
      "/tmp/ipykernel_24/4133840982.py:3: SettingWithCopyWarning: \n",
      "A value is trying to be set on a copy of a slice from a DataFrame.\n",
      "Try using .loc[row_indexer,col_indexer] = value instead\n",
      "\n",
      "See the caveats in the documentation: https://pandas.pydata.org/pandas-docs/stable/user_guide/indexing.html#returning-a-view-versus-a-copy\n",
      "  df_clean['longitude_norm'] = (df['longitude'] - df['longitude'].min()) / (df['longitude'].max() - df['longitude'].min())\n"
     ]
    },
    {
     "name": "stdout",
     "output_type": "stream",
     "text": [
      "<class 'pandas.core.frame.DataFrame'>\n",
      "RangeIndex: 6952921 entries, 0 to 6952920\n",
      "Data columns (total 7 columns):\n",
      " #   Column      Non-Null Count    Dtype         \n",
      "---  ------      --------------    -----         \n",
      " 0   month       6952921 non-null  int64         \n",
      " 1   date        6952921 non-null  int64         \n",
      " 2   start time  6952921 non-null  datetime64[ns]\n",
      " 3   end time    6952921 non-null  datetime64[ns]\n",
      " 4   latitude    6236620 non-null  float64       \n",
      " 5   longitude   6236620 non-null  float64       \n",
      " 6   user id     6952921 non-null  object        \n",
      "dtypes: datetime64[ns](2), float64(2), int64(2), object(1)\n",
      "memory usage: 371.3+ MB\n"
     ]
    },
    {
     "data": {
      "text/html": [
       "<div>\n",
       "<style scoped>\n",
       "    .dataframe tbody tr th:only-of-type {\n",
       "        vertical-align: middle;\n",
       "    }\n",
       "\n",
       "    .dataframe tbody tr th {\n",
       "        vertical-align: top;\n",
       "    }\n",
       "\n",
       "    .dataframe thead th {\n",
       "        text-align: right;\n",
       "    }\n",
       "</style>\n",
       "<table border=\"1\" class=\"dataframe\">\n",
       "  <thead>\n",
       "    <tr style=\"text-align: right;\">\n",
       "      <th></th>\n",
       "      <th>month</th>\n",
       "      <th>date</th>\n",
       "      <th>start time</th>\n",
       "      <th>end time</th>\n",
       "      <th>latitude</th>\n",
       "      <th>longitude</th>\n",
       "      <th>user id</th>\n",
       "    </tr>\n",
       "  </thead>\n",
       "  <tbody>\n",
       "    <tr>\n",
       "      <th>0</th>\n",
       "      <td>201411</td>\n",
       "      <td>1</td>\n",
       "      <td>2014-11-01 09:18:08</td>\n",
       "      <td>2014-11-01 09:34:25</td>\n",
       "      <td>NaN</td>\n",
       "      <td>NaN</td>\n",
       "      <td>57ec951bde737466587feaed0d806a11</td>\n",
       "    </tr>\n",
       "    <tr>\n",
       "      <th>1</th>\n",
       "      <td>201411</td>\n",
       "      <td>1</td>\n",
       "      <td>2014-11-01 18:12:01</td>\n",
       "      <td>2014-11-01 18:22:34</td>\n",
       "      <td>NaN</td>\n",
       "      <td>NaN</td>\n",
       "      <td>cd6e779892f6c03e22211b25409ba75e</td>\n",
       "    </tr>\n",
       "    <tr>\n",
       "      <th>2</th>\n",
       "      <td>201411</td>\n",
       "      <td>1</td>\n",
       "      <td>2014-11-01 18:12:02</td>\n",
       "      <td>2014-11-01 18:21:00</td>\n",
       "      <td>NaN</td>\n",
       "      <td>NaN</td>\n",
       "      <td>cd6e779892f6c03e22211b25409ba75e</td>\n",
       "    </tr>\n",
       "    <tr>\n",
       "      <th>3</th>\n",
       "      <td>201411</td>\n",
       "      <td>1</td>\n",
       "      <td>2014-11-01 15:33:03</td>\n",
       "      <td>2014-11-01 15:34:43</td>\n",
       "      <td>NaN</td>\n",
       "      <td>NaN</td>\n",
       "      <td>b341b594239f8b8d36ed78394426af68</td>\n",
       "    </tr>\n",
       "    <tr>\n",
       "      <th>4</th>\n",
       "      <td>201411</td>\n",
       "      <td>1</td>\n",
       "      <td>2014-11-01 15:19:10</td>\n",
       "      <td>2014-11-01 15:20:10</td>\n",
       "      <td>NaN</td>\n",
       "      <td>NaN</td>\n",
       "      <td>b341b594239f8b8d36ed78394426af68</td>\n",
       "    </tr>\n",
       "  </tbody>\n",
       "</table>\n",
       "</div>"
      ],
      "text/plain": [
       "    month  date          start time            end time  latitude  longitude  \\\n",
       "0  201411     1 2014-11-01 09:18:08 2014-11-01 09:34:25       NaN        NaN   \n",
       "1  201411     1 2014-11-01 18:12:01 2014-11-01 18:22:34       NaN        NaN   \n",
       "2  201411     1 2014-11-01 18:12:02 2014-11-01 18:21:00       NaN        NaN   \n",
       "3  201411     1 2014-11-01 15:33:03 2014-11-01 15:34:43       NaN        NaN   \n",
       "4  201411     1 2014-11-01 15:19:10 2014-11-01 15:20:10       NaN        NaN   \n",
       "\n",
       "                            user id  \n",
       "0  57ec951bde737466587feaed0d806a11  \n",
       "1  cd6e779892f6c03e22211b25409ba75e  \n",
       "2  cd6e779892f6c03e22211b25409ba75e  \n",
       "3  b341b594239f8b8d36ed78394426af68  \n",
       "4  b341b594239f8b8d36ed78394426af68  "
      ]
     },
     "execution_count": 7,
     "metadata": {},
     "output_type": "execute_result"
    }
   ],
   "source": [
    "df_clean = df.dropna(subset = ['latitude','longitude'])\n",
    "df_clean['latitude_norm'] = (df['latitude'] - df['latitude'].min()) / (df['latitude'].max() - df['latitude'].min())\n",
    "df_clean['longitude_norm'] = (df['longitude'] - df['longitude'].min()) / (df['longitude'].max() - df['longitude'].min())\n",
    "df.info(show_counts=True)\n",
    "df.head()\n"
   ]
  },
  {
   "cell_type": "code",
   "execution_count": null,
   "id": "df4962d2",
   "metadata": {
    "papermill": {
     "duration": 0.007379,
     "end_time": "2024-10-03T20:37:24.549264",
     "exception": false,
     "start_time": "2024-10-03T20:37:24.541885",
     "status": "completed"
    },
    "tags": []
   },
   "outputs": [],
   "source": []
  }
 ],
 "metadata": {
  "kaggle": {
   "accelerator": "nvidiaTeslaT4",
   "dataSources": [],
   "dockerImageVersionId": 30775,
   "isGpuEnabled": true,
   "isInternetEnabled": true,
   "language": "python",
   "sourceType": "notebook"
  },
  "kernelspec": {
   "display_name": "Python 3",
   "language": "python",
   "name": "python3"
  },
  "language_info": {
   "codemirror_mode": {
    "name": "ipython",
    "version": 3
   },
   "file_extension": ".py",
   "mimetype": "text/x-python",
   "name": "python",
   "nbconvert_exporter": "python",
   "pygments_lexer": "ipython3",
   "version": "3.10.14"
  },
  "papermill": {
   "default_parameters": {},
   "duration": 1146.184812,
   "end_time": "2024-10-03T20:37:25.176417",
   "environment_variables": {},
   "exception": null,
   "input_path": "__notebook__.ipynb",
   "output_path": "__notebook__.ipynb",
   "parameters": {},
   "start_time": "2024-10-03T20:18:18.991605",
   "version": "2.6.0"
  }
 },
 "nbformat": 4,
 "nbformat_minor": 5
}
